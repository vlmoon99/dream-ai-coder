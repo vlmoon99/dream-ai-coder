{
 "cells": [
  {
   "cell_type": "code",
   "execution_count": 2,
   "metadata": {},
   "outputs": [
    {
     "name": "stdout",
     "output_type": "stream",
     "text": [
      "Create AIGenerationService\n"
     ]
    }
   ],
   "source": [
    "from gpt4all import GPT4All\n",
    "from models.business_requirements import BusinessRequirements\n",
    "\n",
    "class AIGenerationService:\n",
    "    def __init__(self):\n",
    "        list_gpus = GPT4All.list_gpus()\n",
    "        list_gpus = [gpu for gpu in list_gpus if \"cuda:\" in gpu]\n",
    "        self.computer_devices = list_gpus\n",
    "        self.llm_model = GPT4All(\"Meta-Llama-3-8B-Instruct.Q4_0.gguf\",device=list_gpus[0]) \n",
    "        print(\"Create AIGenerationService\")\n",
    "\n",
    "    def generateCode(self,system_prompt : str,prompt_template : str, busines_requirements : BusinessRequirements):\n",
    "        with self.llm_model.chat_session(system_prompt=system_prompt,prompt_template = prompt_template):\n",
    "            generarted_content = self.llm_model.generate(busines_requirements.update_requirements, max_tokens=2048)\n",
    "            print(generarted_content)\n",
    "\n",
    "    def executeCommand(self):\n",
    "        print(\"executeCommand\")\n",
    "\n",
    "\n",
    "ai_generation_service = AIGenerationService()"
   ]
  },
  {
   "cell_type": "code",
   "execution_count": null,
   "metadata": {},
   "outputs": [],
   "source": []
  }
 ],
 "metadata": {
  "kernelspec": {
   "display_name": "base",
   "language": "python",
   "name": "python3"
  },
  "language_info": {
   "codemirror_mode": {
    "name": "ipython",
    "version": 3
   },
   "file_extension": ".py",
   "mimetype": "text/x-python",
   "name": "python",
   "nbconvert_exporter": "python",
   "pygments_lexer": "ipython3",
   "version": "3.12.2"
  }
 },
 "nbformat": 4,
 "nbformat_minor": 2
}
